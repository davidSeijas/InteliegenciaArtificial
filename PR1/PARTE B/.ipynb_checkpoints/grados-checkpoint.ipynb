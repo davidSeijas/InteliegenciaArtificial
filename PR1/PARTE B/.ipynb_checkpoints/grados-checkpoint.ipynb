{
 "cells": [
  {
   "cell_type": "code",
   "execution_count": null,
   "metadata": {
    "collapsed": true
   },
   "outputs": [],
   "source": []
  },
  {
   "cell_type": "code",
   "execution_count": null,
   "metadata": {
    "collapsed": true
   },
   "outputs": [],
   "source": [
    "'''\n",
    "        El estado es el id del actor  que llevamos, y las acciones son pares con el camino que indica la pelicula en el \n",
    "        primer parametro que los conecta y en segundo lugar el siguiente actor. El codigo que nos dan de grados se encarga\n",
    "        de transformar todo para poder imprimirlo en pantalla según se indica.\n",
    "        Para poder resolver el problema hacemos una búsqueda en anchura que va a encontrar la solución en caso de tener y además\n",
    "        va a ser la búsqueda óptima.\n",
    "        El factor de ramificación máximo será el máximo de coincidencias con otros actores de cada actor. \n",
    "'''"
   ]
  },
  {
   "cell_type": "code",
   "execution_count": 41,
   "metadata": {},
   "outputs": [],
   "source": [
    "from search import *\n",
    "from search import breadth_first_tree_search, depth_first_tree_search, depth_first_graph_search, breadth_first_graph_search"
   ]
  },
  {
   "cell_type": "code",
   "execution_count": 60,
   "metadata": {},
   "outputs": [],
   "source": [
    "class grados (Problem):\n",
    "    \n",
    "    def __init__(self,source, target):\n",
    "\n",
    "        self.initial = source \n",
    "        self.goal = target\n",
    "\n",
    "    def actions(self, state):\n",
    "        lista=[]\n",
    "        lista2 = neighbors_for_person(state)\n",
    "        for a in lista2:\n",
    "            actions.add(a[0], a[1])\n",
    "            \n",
    "               \n",
    "\n",
    "\n",
    "    def result(self, state, action):\n",
    "        return action[1]\n",
    "            \n",
    "            \n",
    "    def goal_test(self, state):\n",
    "        \n",
    "        if isinstance(self.goal, list):\n",
    "            return is_in(state, self.goal)\n",
    "        else:\n",
    "            return state == self.goal\n",
    "                        \n",
    "    "
   ]
  },
  {
   "cell_type": "code",
   "execution_count": 72,
   "metadata": {},
   "outputs": [],
   "source": [
    "## grados.py\n",
    "import csv\n",
    "import sys\n",
    "\n",
    "# diccionario de nombres de personas con ids \n",
    "names = {}\n",
    "# diccionario: name, birth, movies (conjunto de movie_ids)\n",
    "people = {}\n",
    "# movie_ids to a dictionary of: title, year, stars (a set of person_ids)\n",
    "movies = {}\n",
    "\n",
    "\n",
    "\n",
    "def load_data(directory):\n",
    "    \"\"\"\n",
    "    Load data from CSV files into memory.\n",
    "    \"\"\"\n",
    "    # Cargamos el archivo people\n",
    "    with open(f\"{directory}/people.csv\", encoding=\"utf-8\") as f:\n",
    "        reader = csv.DictReader(f)\n",
    "        for row in reader:\n",
    "            people[row[\"id\"]] = {\n",
    "                \"name\": row[\"name\"],\n",
    "                \"birth\": row[\"birth\"],\n",
    "                \"movies\": set()\n",
    "            }\n",
    "            if row[\"name\"].lower() not in names:\n",
    "                names[row[\"name\"].lower()] = {row[\"id\"]}\n",
    "            else:\n",
    "                names[row[\"name\"].lower()].add(row[\"id\"])\n",
    "\n",
    "    # cargamos el archivo movies\n",
    "    with open(f\"{directory}/movies.csv\", encoding=\"utf-8\") as f:\n",
    "        reader = csv.DictReader(f)\n",
    "        for row in reader:\n",
    "            movies[row[\"id\"]] = {\n",
    "                \"title\": row[\"title\"],\n",
    "                \"year\": row[\"year\"],\n",
    "                \"stars\": set()\n",
    "            }\n",
    "\n",
    "    # cargamos el archivo stars\n",
    "    with open(f\"{directory}/stars.csv\", encoding=\"utf-8\") as f:\n",
    "        reader = csv.DictReader(f)\n",
    "        for row in reader:\n",
    "            try:\n",
    "                people[row[\"person_id\"]][\"movies\"].add(row[\"movie_id\"])\n",
    "                movies[row[\"movie_id\"]][\"stars\"].add(row[\"person_id\"])\n",
    "            except KeyError:\n",
    "                pass\n",
    "\n",
    "\n",
    "def main():\n",
    "    if len(sys.argv) > 2:\n",
    "        sys.exit(\"Para ejecutarlo en línea de comandos: python grados.py [directory]\")\n",
    "    directory = sys.argv[1] if len(sys.argv) == 2 else \"large\"\n",
    "\n",
    "    # Load data from files into memory\n",
    "    print(\"Cargando los datos...\")\n",
    "    load_data(directory)\n",
    "    print(\"Datos cargados.\")\n",
    "\n",
    "    source = person_id_for_name(input(\"Nombre: \"))\n",
    "    if source is None:\n",
    "        sys.exit(\"Esa persona no se encuentra.\")\n",
    "    target = person_id_for_name(input(\"Nombre: \"))\n",
    "    if target is None:\n",
    "        sys.exit(\"Esa persona no se encuentra.\")\n",
    "\n",
    "    path = shortest_path(source, target)\n",
    "\n",
    "    if path is None:\n",
    "        print(\"No están conectados.\")\n",
    "    else:\n",
    "        degrees = len(path)\n",
    "        print(f\"{degrees} grados de separacion.\")\n",
    "        path = [(None, source)] + path\n",
    "        for i in range(degrees):\n",
    "            person1 = people[path[i][1]][\"name\"]\n",
    "            person2 = people[path[i + 1][1]][\"name\"]\n",
    "            movie = movies[path[i + 1][0]][\"title\"]\n",
    "            print(f\"{i + 1}: {person1} y {person2} participaron en {movie}\")\n",
    "\n",
    "\n",
    "\n",
    "def shortest_path(source, target):\n",
    "    p= grados(source, target)\n",
    "    return breadth_first_graph_search(p).solution\n",
    "    \n",
    "\n",
    "\n",
    "\n",
    "def person_id_for_name(name):\n",
    "    \"\"\"\n",
    "    Returns the IMDB id for a person's name,\n",
    "    resolving ambiguities as needed.\n",
    "    \"\"\"\n",
    "    person_ids = list(names.get(name.lower(), set()))\n",
    "    if len(person_ids) == 0:\n",
    "        return None\n",
    "    elif len(person_ids) > 1:\n",
    "        print(f\"Which '{name}'?\")\n",
    "        for person_id in person_ids:\n",
    "            person = people[person_id]\n",
    "            name = person[\"name\"]\n",
    "            birth = person[\"birth\"]\n",
    "            print(f\"ID: {person_id}, Name: {name}, Birth: {birth}\")\n",
    "        try:\n",
    "            person_id = input(\"Intended Person ID: \")\n",
    "            if person_id in person_ids:\n",
    "                return person_id\n",
    "        except ValueError:\n",
    "            pass\n",
    "        return None\n",
    "    else:\n",
    "        return person_ids[0]\n",
    "\n",
    "\n",
    "def neighbors_for_person(person_id):\n",
    "    \"\"\"\n",
    "    Returns (movie_id, person_id) pairs for people who starred with a given person.\n",
    "    \"\"\"\n",
    "    movie_ids = people[person_id][\"movies\"]\n",
    "    neighbors = set()\n",
    "    for movie_id in movie_ids:\n",
    "        for person_id in movies[movie_id][\"stars\"]:\n",
    "            neighbors.add((movie_id, person_id))\n",
    "    return neighbors\n",
    "\n",
    "\n",
    "#if __name__ == \"__main__\":\n",
    " #   main()"
   ]
  },
  {
   "cell_type": "code",
   "execution_count": 73,
   "metadata": {},
   "outputs": [
    {
     "name": "stdout",
     "output_type": "stream",
     "text": [
      "None\n"
     ]
    }
   ],
   "source": [
    "print(person_id_for_name(\"Emma Watson\"))"
   ]
  },
  {
   "cell_type": "code",
   "execution_count": 74,
   "metadata": {
    "collapsed": true
   },
   "outputs": [],
   "source": [
    "#cargamos los datos\n",
    "load_data(\"small\")"
   ]
  },
  {
   "cell_type": "code",
   "execution_count": 75,
   "metadata": {
    "collapsed": true
   },
   "outputs": [],
   "source": [
    "load_data(\"large\") "
   ]
  },
  {
   "cell_type": "code",
   "execution_count": 76,
   "metadata": {
    "collapsed": true
   },
   "outputs": [],
   "source": [
    "name=\"Emma Watson\"\n",
    "person_id=person_id_for_name(name)"
   ]
  },
  {
   "cell_type": "code",
   "execution_count": 77,
   "metadata": {},
   "outputs": [
    {
     "name": "stdout",
     "output_type": "stream",
     "text": [
      "914612\n"
     ]
    }
   ],
   "source": [
    "print(person_id_for_name(\"Emma Watson\"))"
   ]
  },
  {
   "cell_type": "code",
   "execution_count": 78,
   "metadata": {},
   "outputs": [
    {
     "data": {
      "text/plain": [
       "{('1201607', '2091'),\n",
       " ('1201607', '342488'),\n",
       " ('1201607', '705356'),\n",
       " ('1201607', '914612'),\n",
       " ('1659337', '3009232'),\n",
       " ('1659337', '503567'),\n",
       " ('1659337', '748620'),\n",
       " ('1659337', '914612'),\n",
       " ('1781796', '2354'),\n",
       " ('1781796', '236462'),\n",
       " ('1781796', '382268'),\n",
       " ('1781796', '447905'),\n",
       " ('1781796', '5042'),\n",
       " ('1781796', '705356'),\n",
       " ('1781796', '914612'),\n",
       " ('1959490', '124'),\n",
       " ('1959490', '128'),\n",
       " ('1959490', '164'),\n",
       " ('1959490', '914612'),\n",
       " ('2132285', '3441152'),\n",
       " ('2132285', '4583512'),\n",
       " ('2132285', '4903197'),\n",
       " ('2132285', '914612'),\n",
       " ('2771200', '1265802'),\n",
       " ('2771200', '1405398'),\n",
       " ('2771200', '1812656'),\n",
       " ('2771200', '914612'),\n",
       " ('295297', '1321'),\n",
       " ('295297', '342488'),\n",
       " ('295297', '705356'),\n",
       " ('295297', '914612'),\n",
       " ('304141', '341743'),\n",
       " ('304141', '342488'),\n",
       " ('304141', '705356'),\n",
       " ('304141', '914612'),\n",
       " ('3281548', '3154303'),\n",
       " ('3281548', '6073955'),\n",
       " ('3281548', '658'),\n",
       " ('3281548', '914612'),\n",
       " ('330373', '342488'),\n",
       " ('330373', '705356'),\n",
       " ('330373', '843059'),\n",
       " ('330373', '914612'),\n",
       " ('3319920', '160'),\n",
       " ('3319920', '225460'),\n",
       " ('3319920', '667'),\n",
       " ('3319920', '914612'),\n",
       " ('373889', '322407'),\n",
       " ('373889', '342488'),\n",
       " ('373889', '705356'),\n",
       " ('373889', '914612'),\n",
       " ('4005402', '117709'),\n",
       " ('4005402', '137028'),\n",
       " ('4005402', '638824'),\n",
       " ('4005402', '914612'),\n",
       " ('417741', '2091'),\n",
       " ('417741', '342488'),\n",
       " ('417741', '705356'),\n",
       " ('417741', '914612'),\n",
       " ('420238', '111'),\n",
       " ('420238', '163'),\n",
       " ('420238', '1808'),\n",
       " ('420238', '914612'),\n",
       " ('4287320', '1294664'),\n",
       " ('4287320', '158'),\n",
       " ('4287320', '3915784'),\n",
       " ('4287320', '914612'),\n",
       " ('926084', '342488'),\n",
       " ('926084', '631490'),\n",
       " ('926084', '705356'),\n",
       " ('926084', '914612')}"
      ]
     },
     "execution_count": 78,
     "metadata": {},
     "output_type": "execute_result"
    }
   ],
   "source": [
    "neighbors_for_person(person_id)"
   ]
  },
  {
   "cell_type": "code",
   "execution_count": null,
   "metadata": {},
   "outputs": [],
   "source": [
    "main()"
   ]
  },
  {
   "cell_type": "code",
   "execution_count": null,
   "metadata": {
    "collapsed": true
   },
   "outputs": [],
   "source": []
  }
 ],
 "metadata": {
  "kernelspec": {
   "display_name": "Python 3",
   "language": "python",
   "name": "python3"
  },
  "language_info": {
   "codemirror_mode": {
    "name": "ipython",
    "version": 3
   },
   "file_extension": ".py",
   "mimetype": "text/x-python",
   "name": "python",
   "nbconvert_exporter": "python",
   "pygments_lexer": "ipython3",
   "version": "3.8.3"
  }
 },
 "nbformat": 4,
 "nbformat_minor": 4
}
