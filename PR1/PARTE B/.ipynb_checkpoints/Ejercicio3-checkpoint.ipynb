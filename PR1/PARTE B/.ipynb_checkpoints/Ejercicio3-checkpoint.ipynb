{
 "cells": [
  {
   "cell_type": "code",
   "execution_count": null,
   "metadata": {
    "collapsed": true
   },
   "outputs": [],
   "source": [
    "from search import *\n",
    "from search import breadth_first_tree_search, depth_first_tree_search, depth_first_graph_search, breadth_first_graph_search"
   ]
  },
  {
   "cell_type": "code",
   "execution_count": null,
   "metadata": {
    "collapsed": true
   },
   "outputs": [],
   "source": [
    "class Problema1 (Problem):\n",
    "    \n",
    "    ''' el estado se tiene con dos valores:el numero de factores usados y el resultado que llevamos'''\n",
    "    def __init__(self,objetivo, prohibido):\n",
    "        self.primos = generate_primos(prohibido)\n",
    "        \n",
    "        self.initial = [0,0]\n",
    "        self.goal = objetivo\n",
    "        \n",
    "        \n",
    "        self._actions = [(\"Suma \"%i,(primos[i],0)) for i in range(length(self.primos))]\n",
    "        self._actions += [(\"Resta \"%i,(primos[i],1)) for i in range(length(self.primos))]\n",
    "        self._actions += [(\"Multiplicacion \"%i,(primos[i],2)) for i in range(length(self.primos))]\n",
    "        self._actions += [(\"Division \"%i,(primos[i],3)) for i in range(length(self.primos))]\n",
    "\n",
    "        self._actions += [(\"Cruzan las personas %d y %d\"%(i,j),(i,j)) for i in range (1,personas + 1) for j in range (i+1,personas + 1)]\n",
    "    \n",
    "    def generate_primos(prohibido):\n",
    "        return [i for i in xrange(2,101) if (i%2!=0 or i==2) and (i%3!=0 or i==3) and (i%5!=0 or i==5) and (i%7!=0 or i==7)].remove(prohibido)\n",
    "    \n",
    "     \n",
    "    \n",
    "    def result(self, s, a):\n",
    "        if a[1][1]== 0:\n",
    "            s[0] +=1\n",
    "            s[1] += a[1][0]\n",
    "        \n",
    "        elif a[1][1] == 1:\n",
    "            s[0] +=1\n",
    "            s[1] -= a[1][0]\n",
    "        elif a[1][1] == 2:    \n",
    "            s[0] +=1\n",
    "            s[1] = s[1] * a[1][0]\n",
    "        elif a[1][1] == 2:        \n",
    "            s[0] +=1\n",
    "            s[1] = s[1] /a[1][0]\n",
    "        return s\n",
    "    def goal_test(self, state):\n",
    "        return state[1] == state.goal\n",
    "    \n",
    "    def heuristica(node, goal):\n",
    "        state = node.state\n",
    "        return abs(state[1] - goal)\n",
    "\n"
   ]
  }
 ],
 "metadata": {
  "kernelspec": {
   "display_name": "Python 3",
   "language": "python",
   "name": "python3"
  },
  "language_info": {
   "codemirror_mode": {
    "name": "ipython",
    "version": 3
   },
   "file_extension": ".py",
   "mimetype": "text/x-python",
   "name": "python",
   "nbconvert_exporter": "python",
   "pygments_lexer": "ipython3",
   "version": "3.8.3"
  }
 },
 "nbformat": 4,
 "nbformat_minor": 2
}
