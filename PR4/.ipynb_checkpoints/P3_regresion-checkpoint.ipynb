{
 "cells": [
  {
   "cell_type": "markdown",
   "metadata": {},
   "source": [
    "# Práctica 2: Aprendizaje automático\n",
    "\n",
    "__Fecha de entrega: 16 de mayo de 2021__\n",
    "\n",
    "El objetivo de esta práctica es aplicar los distintos algoritmos de aprendizaje automático disponibles en la scikit-learn [sklearn](https://scikit-learn.org/stable/) sobre varios conjuntos de datos y aprender a interpretar los resultados obtenidos. La práctica consta de 3 notebooks que se entregarán simultáneamente en la tarea de entrega habilitada en el Campus  Virtual.\n",
    "\n",
    "Lo más importante en esta práctica no es el código Python, sino el análisis de los datos y modelos que construyas y las explicaciones razonadas de cada una de las decisiones que tomes. __No se valorarán trozos de código o gráficas sin ningún tipo de contexto o explicación__.\n",
    "\n",
    "Finalmente, recuerda establecer el parámetro `random_state` en todas las funciones que tomen decisiones aleatorias para que los resultados sean reproducibles (los resultados no varíen entre ejecuciones)."
   ]
  },
  {
   "cell_type": "markdown",
   "metadata": {},
   "source": [
    "# Parte 3: Regresión"
   ]
  },
  {
   "cell_type": "markdown",
   "metadata": {},
   "source": [
    "__Número de grupo: 2__\n",
    "\n",
    "__Nombres de los estudiantes: Mario Jiménez, Alejandro Ramírez y David Seijas__"
   ]
  },
  {
   "cell_type": "markdown",
   "metadata": {},
   "source": [
    "En este notebook trabajaremos con una colección de datos de alquileres de Airbnb en Amsterdam. El objetivo de este problema es entrenar una red neuronal capaz de predecir el precio del alojamiento a partir de un conjunto de características."
   ]
  },
  {
   "cell_type": "markdown",
   "metadata": {},
   "source": [
    "## 1) Descripción de los datos\n",
    "\n",
    "Carga el fichero de datos `airbnb.csv` en un dataframe. Describe el conjunto de datos y trata de interpretar el significado de cada una de las variables. Estudia la distribución de precios."
   ]
  },
  {
   "cell_type": "code",
   "execution_count": 1,
   "metadata": {},
   "outputs": [],
   "source": [
    "RANDOM_STATE=333"
   ]
  },
  {
   "cell_type": "code",
   "execution_count": 2,
   "metadata": {},
   "outputs": [
    {
     "data": {
      "text/html": [
       "<div>\n",
       "<style scoped>\n",
       "    .dataframe tbody tr th:only-of-type {\n",
       "        vertical-align: middle;\n",
       "    }\n",
       "\n",
       "    .dataframe tbody tr th {\n",
       "        vertical-align: top;\n",
       "    }\n",
       "\n",
       "    .dataframe thead th {\n",
       "        text-align: right;\n",
       "    }\n",
       "</style>\n",
       "<table border=\"1\" class=\"dataframe\">\n",
       "  <thead>\n",
       "    <tr style=\"text-align: right;\">\n",
       "      <th></th>\n",
       "      <th>accommodates</th>\n",
       "      <th>bathrooms</th>\n",
       "      <th>bedrooms</th>\n",
       "      <th>guests_included</th>\n",
       "      <th>host_listings_count</th>\n",
       "      <th>latitude</th>\n",
       "      <th>longitude</th>\n",
       "      <th>minimum_nights</th>\n",
       "      <th>number_of_reviews</th>\n",
       "      <th>distance_centre</th>\n",
       "      <th>instant_bookable</th>\n",
       "      <th>entire_home</th>\n",
       "      <th>private_room</th>\n",
       "      <th>shared_room</th>\n",
       "      <th>price</th>\n",
       "    </tr>\n",
       "  </thead>\n",
       "  <tbody>\n",
       "    <tr>\n",
       "      <th>0</th>\n",
       "      <td>4</td>\n",
       "      <td>2.0</td>\n",
       "      <td>2.0</td>\n",
       "      <td>1</td>\n",
       "      <td>1.0</td>\n",
       "      <td>52.358466</td>\n",
       "      <td>4.933843</td>\n",
       "      <td>2</td>\n",
       "      <td>8</td>\n",
       "      <td>3.279483</td>\n",
       "      <td>0</td>\n",
       "      <td>1</td>\n",
       "      <td>0</td>\n",
       "      <td>0</td>\n",
       "      <td>160.0</td>\n",
       "    </tr>\n",
       "    <tr>\n",
       "      <th>1</th>\n",
       "      <td>4</td>\n",
       "      <td>1.0</td>\n",
       "      <td>2.0</td>\n",
       "      <td>2</td>\n",
       "      <td>1.0</td>\n",
       "      <td>52.363589</td>\n",
       "      <td>4.983353</td>\n",
       "      <td>3</td>\n",
       "      <td>0</td>\n",
       "      <td>5.951843</td>\n",
       "      <td>0</td>\n",
       "      <td>1</td>\n",
       "      <td>0</td>\n",
       "      <td>0</td>\n",
       "      <td>120.0</td>\n",
       "    </tr>\n",
       "    <tr>\n",
       "      <th>2</th>\n",
       "      <td>2</td>\n",
       "      <td>1.0</td>\n",
       "      <td>1.0</td>\n",
       "      <td>1</td>\n",
       "      <td>1.0</td>\n",
       "      <td>52.375209</td>\n",
       "      <td>4.861647</td>\n",
       "      <td>3</td>\n",
       "      <td>8</td>\n",
       "      <td>2.601055</td>\n",
       "      <td>0</td>\n",
       "      <td>1</td>\n",
       "      <td>0</td>\n",
       "      <td>0</td>\n",
       "      <td>99.0</td>\n",
       "    </tr>\n",
       "    <tr>\n",
       "      <th>3</th>\n",
       "      <td>2</td>\n",
       "      <td>1.0</td>\n",
       "      <td>1.0</td>\n",
       "      <td>1</td>\n",
       "      <td>1.0</td>\n",
       "      <td>52.387382</td>\n",
       "      <td>4.890457</td>\n",
       "      <td>2</td>\n",
       "      <td>41</td>\n",
       "      <td>1.095138</td>\n",
       "      <td>0</td>\n",
       "      <td>0</td>\n",
       "      <td>1</td>\n",
       "      <td>0</td>\n",
       "      <td>100.0</td>\n",
       "    </tr>\n",
       "    <tr>\n",
       "      <th>4</th>\n",
       "      <td>2</td>\n",
       "      <td>1.0</td>\n",
       "      <td>1.0</td>\n",
       "      <td>1</td>\n",
       "      <td>1.0</td>\n",
       "      <td>52.384062</td>\n",
       "      <td>4.889877</td>\n",
       "      <td>3</td>\n",
       "      <td>0</td>\n",
       "      <td>0.844491</td>\n",
       "      <td>0</td>\n",
       "      <td>1</td>\n",
       "      <td>0</td>\n",
       "      <td>0</td>\n",
       "      <td>175.0</td>\n",
       "    </tr>\n",
       "    <tr>\n",
       "      <th>...</th>\n",
       "      <td>...</td>\n",
       "      <td>...</td>\n",
       "      <td>...</td>\n",
       "      <td>...</td>\n",
       "      <td>...</td>\n",
       "      <td>...</td>\n",
       "      <td>...</td>\n",
       "      <td>...</td>\n",
       "      <td>...</td>\n",
       "      <td>...</td>\n",
       "      <td>...</td>\n",
       "      <td>...</td>\n",
       "      <td>...</td>\n",
       "      <td>...</td>\n",
       "      <td>...</td>\n",
       "    </tr>\n",
       "    <tr>\n",
       "      <th>14993</th>\n",
       "      <td>2</td>\n",
       "      <td>1.0</td>\n",
       "      <td>1.0</td>\n",
       "      <td>1</td>\n",
       "      <td>43.0</td>\n",
       "      <td>52.382970</td>\n",
       "      <td>4.873389</td>\n",
       "      <td>3</td>\n",
       "      <td>10</td>\n",
       "      <td>1.815773</td>\n",
       "      <td>0</td>\n",
       "      <td>1</td>\n",
       "      <td>0</td>\n",
       "      <td>0</td>\n",
       "      <td>140.0</td>\n",
       "    </tr>\n",
       "    <tr>\n",
       "      <th>14994</th>\n",
       "      <td>4</td>\n",
       "      <td>1.0</td>\n",
       "      <td>2.0</td>\n",
       "      <td>1</td>\n",
       "      <td>1.0</td>\n",
       "      <td>52.347479</td>\n",
       "      <td>4.833644</td>\n",
       "      <td>4</td>\n",
       "      <td>2</td>\n",
       "      <td>5.687407</td>\n",
       "      <td>1</td>\n",
       "      <td>1</td>\n",
       "      <td>0</td>\n",
       "      <td>0</td>\n",
       "      <td>120.0</td>\n",
       "    </tr>\n",
       "    <tr>\n",
       "      <th>14995</th>\n",
       "      <td>2</td>\n",
       "      <td>1.0</td>\n",
       "      <td>1.0</td>\n",
       "      <td>1</td>\n",
       "      <td>1.0</td>\n",
       "      <td>52.370400</td>\n",
       "      <td>4.918489</td>\n",
       "      <td>1</td>\n",
       "      <td>5</td>\n",
       "      <td>1.620395</td>\n",
       "      <td>0</td>\n",
       "      <td>1</td>\n",
       "      <td>0</td>\n",
       "      <td>0</td>\n",
       "      <td>120.0</td>\n",
       "    </tr>\n",
       "    <tr>\n",
       "      <th>14996</th>\n",
       "      <td>3</td>\n",
       "      <td>1.0</td>\n",
       "      <td>1.0</td>\n",
       "      <td>1</td>\n",
       "      <td>1.0</td>\n",
       "      <td>52.389637</td>\n",
       "      <td>4.879580</td>\n",
       "      <td>2</td>\n",
       "      <td>7</td>\n",
       "      <td>1.777881</td>\n",
       "      <td>0</td>\n",
       "      <td>1</td>\n",
       "      <td>0</td>\n",
       "      <td>0</td>\n",
       "      <td>95.0</td>\n",
       "    </tr>\n",
       "    <tr>\n",
       "      <th>14997</th>\n",
       "      <td>2</td>\n",
       "      <td>1.0</td>\n",
       "      <td>1.0</td>\n",
       "      <td>1</td>\n",
       "      <td>1.0</td>\n",
       "      <td>52.365212</td>\n",
       "      <td>4.868335</td>\n",
       "      <td>1</td>\n",
       "      <td>2</td>\n",
       "      <td>2.619788</td>\n",
       "      <td>0</td>\n",
       "      <td>1</td>\n",
       "      <td>0</td>\n",
       "      <td>0</td>\n",
       "      <td>120.0</td>\n",
       "    </tr>\n",
       "  </tbody>\n",
       "</table>\n",
       "<p>14998 rows × 15 columns</p>\n",
       "</div>"
      ],
      "text/plain": [
       "       accommodates  bathrooms  bedrooms  guests_included  \\\n",
       "0                 4        2.0       2.0                1   \n",
       "1                 4        1.0       2.0                2   \n",
       "2                 2        1.0       1.0                1   \n",
       "3                 2        1.0       1.0                1   \n",
       "4                 2        1.0       1.0                1   \n",
       "...             ...        ...       ...              ...   \n",
       "14993             2        1.0       1.0                1   \n",
       "14994             4        1.0       2.0                1   \n",
       "14995             2        1.0       1.0                1   \n",
       "14996             3        1.0       1.0                1   \n",
       "14997             2        1.0       1.0                1   \n",
       "\n",
       "       host_listings_count   latitude  longitude  minimum_nights  \\\n",
       "0                      1.0  52.358466   4.933843               2   \n",
       "1                      1.0  52.363589   4.983353               3   \n",
       "2                      1.0  52.375209   4.861647               3   \n",
       "3                      1.0  52.387382   4.890457               2   \n",
       "4                      1.0  52.384062   4.889877               3   \n",
       "...                    ...        ...        ...             ...   \n",
       "14993                 43.0  52.382970   4.873389               3   \n",
       "14994                  1.0  52.347479   4.833644               4   \n",
       "14995                  1.0  52.370400   4.918489               1   \n",
       "14996                  1.0  52.389637   4.879580               2   \n",
       "14997                  1.0  52.365212   4.868335               1   \n",
       "\n",
       "       number_of_reviews  distance_centre  instant_bookable  entire_home  \\\n",
       "0                      8         3.279483                 0            1   \n",
       "1                      0         5.951843                 0            1   \n",
       "2                      8         2.601055                 0            1   \n",
       "3                     41         1.095138                 0            0   \n",
       "4                      0         0.844491                 0            1   \n",
       "...                  ...              ...               ...          ...   \n",
       "14993                 10         1.815773                 0            1   \n",
       "14994                  2         5.687407                 1            1   \n",
       "14995                  5         1.620395                 0            1   \n",
       "14996                  7         1.777881                 0            1   \n",
       "14997                  2         2.619788                 0            1   \n",
       "\n",
       "       private_room  shared_room  price  \n",
       "0                 0            0  160.0  \n",
       "1                 0            0  120.0  \n",
       "2                 0            0   99.0  \n",
       "3                 1            0  100.0  \n",
       "4                 0            0  175.0  \n",
       "...             ...          ...    ...  \n",
       "14993             0            0  140.0  \n",
       "14994             0            0  120.0  \n",
       "14995             0            0  120.0  \n",
       "14996             0            0   95.0  \n",
       "14997             0            0  120.0  \n",
       "\n",
       "[14998 rows x 15 columns]"
      ]
     },
     "execution_count": 2,
     "metadata": {},
     "output_type": "execute_result"
    }
   ],
   "source": [
    "import pandas as pd\n",
    "filename = \"airbnb.csv\"\n",
    "\n",
    "df = pd.read_csv(filename)\n",
    "df = df.dropna()\n",
    "\n",
    "df"
   ]
  },
  {
   "cell_type": "markdown",
   "metadata": {},
   "source": [
    "Hay 14998 pisos registrados, cada uno con 15 variables anotadas."
   ]
  },
  {
   "cell_type": "markdown",
   "metadata": {},
   "source": [
    "#### Variables:\n",
    "1. accomodates: nº de huéspedes en el alojamiento.\n",
    "2. bathrooms: baños.\n",
    "3. bedrooms: habitaciones.\n",
    "4. guests_included: invitados permitidos.\n",
    "5. host_listings_count: lista de huéspedes que han pasado por el alojamiento.\n",
    "6. latitude: latitud de su ubicación.\n",
    "7. longitude: longitud de su ubicación.\n",
    "8. minimum_nights: mínimo de noches que debe pasar el huesped.\n",
    "9. number_of_reviews: nº de críticas recibidas (positivas o negativas).\n",
    "10. distance_centre: distancia al centro de Amsterdam en km\n",
    "11. instant_bookable: si actualmente se puede alquilar o no.\n",
    "12. entire_home: si el huesped dispone de toda la casa.\n",
    "13. private_room: contrario de entire_home.\n",
    "14. shared_room: si tiene zonas comunes\n",
    "15. price: precio por noche"
   ]
  },
  {
   "cell_type": "code",
   "execution_count": 3,
   "metadata": {},
   "outputs": [
    {
     "data": {
      "text/plain": [
       "count    14998.000000\n",
       "mean       130.050273\n",
       "std         63.820328\n",
       "min         19.000000\n",
       "25%         89.000000\n",
       "50%        115.000000\n",
       "75%        150.000000\n",
       "max        440.000000\n",
       "Name: price, dtype: float64"
      ]
     },
     "execution_count": 3,
     "metadata": {},
     "output_type": "execute_result"
    }
   ],
   "source": [
    "df2 = df['price']\n",
    "df2.describe() #saca las variables"
   ]
  },
  {
   "cell_type": "markdown",
   "metadata": {},
   "source": [
    "#### OBSERVACIONES\n",
    "La media es de 130 euros por noche, con una desviación típica de 63. Es decir, la media no es del todo exacta, y la mayoría de los alojamientos tienen un precio de entre [70,180]. Aun así, existen ofertas mucho más modestas, como el mínimo de 19, que puede ser un albergue. También existen ofertas para clientes con un alto poder adquisitivo."
   ]
  },
  {
   "cell_type": "markdown",
   "metadata": {},
   "source": [
    "## 2) Selección de variables\n",
    "\n",
    "Calcula los coeficientes de correlación de Pearson entre la variable de salida y el resto de variables. Crea un nuevo dataframe que contenga el precio y, además, las variables que estén relacionadas con él por un valor de correlacción de al menos 0.2 (de forma directa o inversa)."
   ]
  },
  {
   "cell_type": "code",
   "execution_count": 7,
   "metadata": {},
   "outputs": [
    {
     "data": {
      "text/html": [
       "<div>\n",
       "<style scoped>\n",
       "    .dataframe tbody tr th:only-of-type {\n",
       "        vertical-align: middle;\n",
       "    }\n",
       "\n",
       "    .dataframe tbody tr th {\n",
       "        vertical-align: top;\n",
       "    }\n",
       "\n",
       "    .dataframe thead th {\n",
       "        text-align: right;\n",
       "    }\n",
       "</style>\n",
       "<table border=\"1\" class=\"dataframe\">\n",
       "  <thead>\n",
       "    <tr style=\"text-align: right;\">\n",
       "      <th></th>\n",
       "      <th>accommodates</th>\n",
       "      <th>bathrooms</th>\n",
       "      <th>bedrooms</th>\n",
       "      <th>guests_included</th>\n",
       "      <th>distance_centre</th>\n",
       "      <th>entire_home</th>\n",
       "      <th>private_room</th>\n",
       "      <th>price</th>\n",
       "    </tr>\n",
       "  </thead>\n",
       "  <tbody>\n",
       "    <tr>\n",
       "      <th>0</th>\n",
       "      <td>4</td>\n",
       "      <td>2.0</td>\n",
       "      <td>2.0</td>\n",
       "      <td>1</td>\n",
       "      <td>3.279483</td>\n",
       "      <td>1</td>\n",
       "      <td>0</td>\n",
       "      <td>160.0</td>\n",
       "    </tr>\n",
       "    <tr>\n",
       "      <th>1</th>\n",
       "      <td>4</td>\n",
       "      <td>1.0</td>\n",
       "      <td>2.0</td>\n",
       "      <td>2</td>\n",
       "      <td>5.951843</td>\n",
       "      <td>1</td>\n",
       "      <td>0</td>\n",
       "      <td>120.0</td>\n",
       "    </tr>\n",
       "    <tr>\n",
       "      <th>2</th>\n",
       "      <td>2</td>\n",
       "      <td>1.0</td>\n",
       "      <td>1.0</td>\n",
       "      <td>1</td>\n",
       "      <td>2.601055</td>\n",
       "      <td>1</td>\n",
       "      <td>0</td>\n",
       "      <td>99.0</td>\n",
       "    </tr>\n",
       "    <tr>\n",
       "      <th>3</th>\n",
       "      <td>2</td>\n",
       "      <td>1.0</td>\n",
       "      <td>1.0</td>\n",
       "      <td>1</td>\n",
       "      <td>1.095138</td>\n",
       "      <td>0</td>\n",
       "      <td>1</td>\n",
       "      <td>100.0</td>\n",
       "    </tr>\n",
       "    <tr>\n",
       "      <th>4</th>\n",
       "      <td>2</td>\n",
       "      <td>1.0</td>\n",
       "      <td>1.0</td>\n",
       "      <td>1</td>\n",
       "      <td>0.844491</td>\n",
       "      <td>1</td>\n",
       "      <td>0</td>\n",
       "      <td>175.0</td>\n",
       "    </tr>\n",
       "    <tr>\n",
       "      <th>...</th>\n",
       "      <td>...</td>\n",
       "      <td>...</td>\n",
       "      <td>...</td>\n",
       "      <td>...</td>\n",
       "      <td>...</td>\n",
       "      <td>...</td>\n",
       "      <td>...</td>\n",
       "      <td>...</td>\n",
       "    </tr>\n",
       "    <tr>\n",
       "      <th>14993</th>\n",
       "      <td>2</td>\n",
       "      <td>1.0</td>\n",
       "      <td>1.0</td>\n",
       "      <td>1</td>\n",
       "      <td>1.815773</td>\n",
       "      <td>1</td>\n",
       "      <td>0</td>\n",
       "      <td>140.0</td>\n",
       "    </tr>\n",
       "    <tr>\n",
       "      <th>14994</th>\n",
       "      <td>4</td>\n",
       "      <td>1.0</td>\n",
       "      <td>2.0</td>\n",
       "      <td>1</td>\n",
       "      <td>5.687407</td>\n",
       "      <td>1</td>\n",
       "      <td>0</td>\n",
       "      <td>120.0</td>\n",
       "    </tr>\n",
       "    <tr>\n",
       "      <th>14995</th>\n",
       "      <td>2</td>\n",
       "      <td>1.0</td>\n",
       "      <td>1.0</td>\n",
       "      <td>1</td>\n",
       "      <td>1.620395</td>\n",
       "      <td>1</td>\n",
       "      <td>0</td>\n",
       "      <td>120.0</td>\n",
       "    </tr>\n",
       "    <tr>\n",
       "      <th>14996</th>\n",
       "      <td>3</td>\n",
       "      <td>1.0</td>\n",
       "      <td>1.0</td>\n",
       "      <td>1</td>\n",
       "      <td>1.777881</td>\n",
       "      <td>1</td>\n",
       "      <td>0</td>\n",
       "      <td>95.0</td>\n",
       "    </tr>\n",
       "    <tr>\n",
       "      <th>14997</th>\n",
       "      <td>2</td>\n",
       "      <td>1.0</td>\n",
       "      <td>1.0</td>\n",
       "      <td>1</td>\n",
       "      <td>2.619788</td>\n",
       "      <td>1</td>\n",
       "      <td>0</td>\n",
       "      <td>120.0</td>\n",
       "    </tr>\n",
       "  </tbody>\n",
       "</table>\n",
       "<p>14998 rows × 8 columns</p>\n",
       "</div>"
      ],
      "text/plain": [
       "       accommodates  bathrooms  bedrooms  guests_included  distance_centre  \\\n",
       "0                 4        2.0       2.0                1         3.279483   \n",
       "1                 4        1.0       2.0                2         5.951843   \n",
       "2                 2        1.0       1.0                1         2.601055   \n",
       "3                 2        1.0       1.0                1         1.095138   \n",
       "4                 2        1.0       1.0                1         0.844491   \n",
       "...             ...        ...       ...              ...              ...   \n",
       "14993             2        1.0       1.0                1         1.815773   \n",
       "14994             4        1.0       2.0                1         5.687407   \n",
       "14995             2        1.0       1.0                1         1.620395   \n",
       "14996             3        1.0       1.0                1         1.777881   \n",
       "14997             2        1.0       1.0                1         2.619788   \n",
       "\n",
       "       entire_home  private_room  price  \n",
       "0                1             0  160.0  \n",
       "1                1             0  120.0  \n",
       "2                1             0   99.0  \n",
       "3                0             1  100.0  \n",
       "4                1             0  175.0  \n",
       "...            ...           ...    ...  \n",
       "14993            1             0  140.0  \n",
       "14994            1             0  120.0  \n",
       "14995            1             0  120.0  \n",
       "14996            1             0   95.0  \n",
       "14997            1             0  120.0  \n",
       "\n",
       "[14998 rows x 8 columns]"
      ]
     },
     "execution_count": 7,
     "metadata": {},
     "output_type": "execute_result"
    }
   ],
   "source": [
    "correl=df.corr()\n",
    "df3 = correl[abs(correl['price']) > 0.2]['price']\n",
    "\n",
    "dfaux = df.loc[:, df3.index]\n",
    "dfaux"
   ]
  },
  {
   "cell_type": "markdown",
   "metadata": {},
   "source": [
    "## 3) Normalización\n",
    "\n",
    "Decide si debes o no normalizar los datos. En caso afirmativo elige razonadamente entre escalarlos o estandarizarlos.\n",
    "\n",
    "Si decides escalar los datos deberás crear dos `scalers` distintos, uno para el array con la descripción de los pisos y otro para el array con el precio. Lo hacemos de este modo porque así podremos desescalar las predicciones más fácilmente."
   ]
  },
  {
   "cell_type": "markdown",
   "metadata": {},
   "source": [
    "#### DECISIÓN\n",
    "En primer lugar, es necesario escalar los datos puesto que la convergencia se dará mucho más rápido y el algoritmo será más eficaz.\n",
    "\n",
    "Por otro lado, hemos decidido escalarlos (con MinMax) ya que las distribuciones no se asemejan mucho a una normal."
   ]
  },
  {
   "cell_type": "code",
   "execution_count": 10,
   "metadata": {},
   "outputs": [],
   "source": [
    "df1 = dfaux.drop(['price'], axis=1) #valores de entrada\n",
    "df2 = dfaux['price'] #valores de salida"
   ]
  },
  {
   "cell_type": "code",
   "execution_count": 12,
   "metadata": {},
   "outputs": [],
   "source": [
    "from sklearn.preprocessing import MinMaxScaler\n",
    "\n",
    "# Transformamos las variables de entrada\n",
    "scaler_x = MinMaxScaler()\n",
    "scaler_x.fit(df1.values)\n",
    "df1_scaled=scaler_x.transform(df1.values)\n",
    "\n",
    "# Y también transformamos la variable de salida\n",
    "scaler_y = MinMaxScaler()\n",
    "scaler_y.fit(df2.values.reshape(-1, 1)) # Como es una sola variable es necesario ponerlo en modo columna\n",
    "target_scaled=scaler_y.transform(df2.values.reshape(-1, 1))"
   ]
  },
  {
   "cell_type": "code",
   "execution_count": 13,
   "metadata": {},
   "outputs": [
    {
     "data": {
      "text/plain": [
       "array([[0.1875    , 0.25      , 0.2       , ..., 0.26979228, 1.        ,\n",
       "        0.        ],\n",
       "       [0.1875    , 0.125     , 0.2       , ..., 0.49768568, 1.        ,\n",
       "        0.        ],\n",
       "       [0.0625    , 0.125     , 0.1       , ..., 0.2119373 , 1.        ,\n",
       "        0.        ],\n",
       "       ...,\n",
       "       [0.0625    , 0.125     , 0.1       , ..., 0.12830863, 1.        ,\n",
       "        0.        ],\n",
       "       [0.125     , 0.125     , 0.1       , ..., 0.14173871, 1.        ,\n",
       "        0.        ],\n",
       "       [0.0625    , 0.125     , 0.1       , ..., 0.21353482, 1.        ,\n",
       "        0.        ]])"
      ]
     },
     "execution_count": 13,
     "metadata": {},
     "output_type": "execute_result"
    }
   ],
   "source": [
    "df1_scaled"
   ]
  },
  {
   "cell_type": "code",
   "execution_count": 14,
   "metadata": {},
   "outputs": [
    {
     "data": {
      "text/plain": [
       "array([[0.33491686],\n",
       "       [0.23990499],\n",
       "       [0.19002375],\n",
       "       ...,\n",
       "       [0.23990499],\n",
       "       [0.18052257],\n",
       "       [0.23990499]])"
      ]
     },
     "execution_count": 14,
     "metadata": {},
     "output_type": "execute_result"
    }
   ],
   "source": [
    "target_scaled"
   ]
  },
  {
   "cell_type": "markdown",
   "metadata": {},
   "source": [
    "## 4) Entrenamiento y selección\n",
    "\n",
    "Crea dos redes neuronales de tipo Perceptrón Multicapa:\n",
    "- La primera con una capa oculta de 200 neuronas\n",
    "- La segunda con dos capas ocultas cada una de 100 neuronas\n",
    "\n",
    "Pinta la curva de aprendizaje para cada red variando el parámetro `alpha` que controla el coeficiente de regularización L2 y determina el valor óptimo usando validación cruzada. Asegúrate de que no salen warnings indicando que no se ha alcanzado la convergencia durante el entrenamiento (basta con poner un número de max_iter suficientemente grande).\n",
    "\n",
    "¿Alguna de las dos redes domina a la otra? ¿Por qué crees que se producen las diferencias?"
   ]
  },
  {
   "cell_type": "markdown",
   "metadata": {},
   "source": [
    "Una capa oculta de 200 neurona"
   ]
  },
  {
   "cell_type": "code",
   "execution_count": 19,
   "metadata": {},
   "outputs": [
    {
     "data": {
      "text/plain": [
       "([-0.012678058326870708,\n",
       "  -0.012226656573093376,\n",
       "  -0.01227486731648672,\n",
       "  -0.01225004077782114,\n",
       "  -0.012243364484804887,\n",
       "  -0.012228302978063621],\n",
       " [0.0003966419209094001,\n",
       "  0.00027398866706305716,\n",
       "  0.00020223707355082873,\n",
       "  0.00020722075014518695,\n",
       "  0.0002049348239465782,\n",
       "  0.00021794733926554157])"
      ]
     },
     "execution_count": 19,
     "metadata": {},
     "output_type": "execute_result"
    }
   ],
   "source": [
    "from sklearn.neural_network import MLPRegressor\n",
    "from sklearn.model_selection import cross_val_score\n",
    "from sklearn.metrics import mean_squared_error\n",
    "import numpy as np\n",
    "\n",
    "cv_scores_mean=[]\n",
    "cv_scores_std=[]\n",
    "\n",
    "# Entrenar y validar distintas configuraciones\n",
    "regul_param_range = 10.0 ** -np.arange(1, 7) # [0.1, 0.01, ..., 0.0000001]\n",
    "for regul_param in regul_param_range:\n",
    "    # Aumentamos el parámetro max_iter hasta que converja\n",
    "    mlp=MLPRegressor(hidden_layer_sizes=(200, ), activation='relu', solver='adam', alpha=regul_param, batch_size=100, \n",
    "             learning_rate='constant', learning_rate_init=0.001, max_iter=100, random_state=RANDOM_STATE)\n",
    "    \n",
    "    # El error es neg_mean_squared_error el MSE en negativo!! Más pequeño peor.\n",
    "    scores = cross_val_score(mlp, df1_scaled, target_scaled.ravel(), cv=5, scoring='neg_mean_squared_error')\n",
    "    \n",
    "    cv_scores_mean.append(scores.mean())\n",
    "    cv_scores_std.append(scores.std())\n",
    "\n",
    "cv_scores_mean, cv_scores_std"
   ]
  },
  {
   "cell_type": "code",
   "execution_count": 20,
   "metadata": {},
   "outputs": [
    {
     "data": {
      "image/png": "[encoded data removed]",
      "text/plain": [
       "<Figure size 432x288 with 1 Axes>"
      ]
     },
     "metadata": {
      "needs_background": "light"
     },
     "output_type": "display_data"
    }
   ],
   "source": [
    "import matplotlib.pyplot as plt\n",
    "\n",
    "# Dibujamos la línea de la exactitud media en las partes de test\n",
    "plt.plot(np.log10(regul_param_range), cv_scores_mean, color=\"g\", label=\"Test\")\n",
    "\n",
    "# Dibujamos la banda de la desviación típica\n",
    "lower_limit = np.array(cv_scores_mean) - np.array(cv_scores_std)\n",
    "upper_limit = np.array(cv_scores_mean) + np.array(cv_scores_std)\n",
    "plt.fill_between(np.log10(regul_param_range), lower_limit, upper_limit, color=\"#DDDDDD\")\n",
    "\n",
    "# Creamos el gráfico\n",
    "plt.title(\"Curva de aprendizaje\")\n",
    "plt.xlabel(\"Regularización 10^{-X}\"), plt.ylabel(\"negative MSE\"), plt.legend(loc=\"best\")\n",
    "plt.tight_layout()\n",
    "plt.show()"
   ]
  },
  {
   "cell_type": "markdown",
   "metadata": {},
   "source": [
    "#### OBSERVACIONES\n",
    "Parece que el mejor valor es $\\alpha=10^{-2}$, porque con -1 es muy mala y el resto es más o menos estable, con valores próximos. Aun así, el 2 sigue siendo la mejor."
   ]
  },
  {
   "cell_type": "markdown",
   "metadata": {},
   "source": [
    "Dos capas ocultas de 100 neuronas"
   ]
  },
  {
   "cell_type": "code",
   "execution_count": 17,
   "metadata": {},
   "outputs": [
    {
     "data": {
      "text/plain": [
       "([-0.012723697054611205,\n",
       "  -0.011979667476459645,\n",
       "  -0.011740184971338063,\n",
       "  -0.011704574246138705,\n",
       "  -0.01169437301714911,\n",
       "  -0.01175465244045318],\n",
       " [0.0003885895981672428,\n",
       "  0.0003546605235645444,\n",
       "  0.0004269019094578842,\n",
       "  0.00044308683145133766,\n",
       "  0.00043602684046625774,\n",
       "  0.00045943793468267077])"
      ]
     },
     "execution_count": 17,
     "metadata": {},
     "output_type": "execute_result"
    }
   ],
   "source": [
    "from sklearn.neural_network import MLPRegressor\n",
    "from sklearn.model_selection import cross_val_score\n",
    "from sklearn.metrics import mean_squared_error\n",
    "import numpy as np\n",
    "\n",
    "cv_scores_mean=[]\n",
    "cv_scores_std=[]\n",
    "\n",
    "# Entrenar y validar distintas configuraciones\n",
    "regul_param_range = 10.0 ** -np.arange(1, 7) # [0.1, 0.01, ..., 0.0000001]\n",
    "for regul_param in regul_param_range:\n",
    "    # Aumentamos el parámetro max_iter hasta que converja\n",
    "    mlp=MLPRegressor(hidden_layer_sizes=(100,100), activation='relu', solver='adam', alpha=regul_param, batch_size=100, \n",
    "             learning_rate='constant', learning_rate_init=0.001, max_iter=500, random_state=RANDOM_STATE)\n",
    "    \n",
    "    # El error es neg_mean_squared_error el MSE en negativo!! Más pequeño peor.\n",
    "    scores = cross_val_score(mlp, df1_scaled, target_scaled.ravel(), cv=5, scoring='neg_mean_squared_error')\n",
    "    \n",
    "    cv_scores_mean.append(scores.mean())\n",
    "    cv_scores_std.append(scores.std())\n",
    "\n",
    "cv_scores_mean, cv_scores_std"
   ]
  },
  {
   "cell_type": "code",
   "execution_count": 18,
   "metadata": {},
   "outputs": [
    {
     "data": {
      "image/png": "[encoded data removed]",
      "text/plain": [
       "<Figure size 432x288 with 1 Axes>"
      ]
     },
     "metadata": {
      "needs_background": "light"
     },
     "output_type": "display_data"
    }
   ],
   "source": [
    "import matplotlib.pyplot as plt\n",
    "\n",
    "# Dibujamos la línea de la exactitud media en las partes de test\n",
    "plt.plot(np.log10(regul_param_range), cv_scores_mean, color=\"g\", label=\"Test\")\n",
    "\n",
    "# Dibujamos la banda de la desviación típica\n",
    "lower_limit = np.array(cv_scores_mean) - np.array(cv_scores_std)\n",
    "upper_limit = np.array(cv_scores_mean) + np.array(cv_scores_std)\n",
    "plt.fill_between(np.log10(regul_param_range), lower_limit, upper_limit, color=\"#DDDDDD\")\n",
    "\n",
    "# Creamos el gráfico\n",
    "plt.title(\"Curva de aprendizaje\")\n",
    "plt.xlabel(\"Regularización 10^{-X}\"), plt.ylabel(\"negative MSE\"), plt.legend(loc=\"best\")\n",
    "plt.tight_layout()\n",
    "plt.show()"
   ]
  },
  {
   "cell_type": "markdown",
   "metadata": {},
   "source": [
    "#### OBSERVACIONES\n",
    "En este caso, el coeficiente de regularización que más nos conviene es $\\alpha=10^{-5}$. Sin embargo, también podemos escoger -4 o -3, pues prácticamente es lo mismo."
   ]
  },
  {
   "cell_type": "markdown",
   "metadata": {},
   "source": [
    "#### PREGUNTAS\n",
    "1. La de dos capas de 100 domina a la otra, pues se observa que el error es menor (en valor absoluto), es decir, la gráfica está por encima de la de 200.\n",
    "2. Esto se debe principalmente a que al añadir otra capa, estamos añadiendo mayor complejidad, dando paso a poder expresar mejor la no linealidad. Por un lado, una capa oculta puede ser útil para problemas sencillos y para obtener una solución rápida; sin embargo, diversos estudios sobre el tema hablan de mayor precisión al usar dos capas. En este sentido, sugiero leer este enlace en el que se explican aspectos como este:https://www.heatonresearch.com/2017/06/01/hidden-layers.html. En el que se explica que se puede expresar con mayor precisión cualquier función suave a la precisión que desee(añadiendo más conjuntos de neuronas) con dos capas; mientras que uno es buena para representar funciones continuas."
   ]
  },
  {
   "cell_type": "markdown",
   "metadata": {},
   "source": [
    "## 5) Medición del error\n",
    "\n",
    "Elige la mejor configuración del apartado anterior y usa la función `cross_val_predict` para realizar una predicción del valor de todos los establecimientos usando validación cruzada. ¿Cuál es el error medio del modelo en euros? ¿Crees que el modelo es suficientemente bueno?\n",
    "\n",
    "Pinta la distribución del error en euros y el diagrama de dispersión de la predicción frente al valor real. ¿El modelo comete los mismos tipos de errores en establecimientos de distintos precios? ¿Por qué crees que se producen esos errores?"
   ]
  },
  {
   "cell_type": "code",
   "execution_count": 30,
   "metadata": {},
   "outputs": [],
   "source": [
    "from sklearn.model_selection import cross_val_predict\n",
    "\n",
    "# Creamos el clasificador\n",
    "regul_param=0.00001\n",
    "mlp = MLPRegressor(hidden_layer_sizes=(100,), activation='relu', solver='adam', alpha=regul_param, batch_size=100, \n",
    "             learning_rate='constant', learning_rate_init=0.001, max_iter=500, random_state=RANDOM_STATE)\n",
    "    \n",
    "# estimamos \n",
    "predicts_scaled = cross_val_predict(mlp, df1_scaled, target_scaled.ravel(), cv=10)\n",
    "\n",
    "# desescalamos las predicciones para que estén en la escala original\n",
    "predicts=scaler_y.inverse_transform(predicts_scaled.reshape(-1, 1))"
   ]
  },
  {
   "cell_type": "code",
   "execution_count": 31,
   "metadata": {},
   "outputs": [
    {
     "name": "stdout",
     "output_type": "stream",
     "text": [
      "Error medio:  32.47756760358373\n",
      "Desviación típica:  32.239384552463\n",
      "Error medio en %:  24.97308676256111\n"
     ]
    }
   ],
   "source": [
    "errors = np.abs(df2.values.reshape(-1, 1) - predicts) # error en cada ejemplo\n",
    "mean_error = np.mean(errors)\n",
    "std_error = np.std(errors)\n",
    "mean_price = np.mean(df2.values)\n",
    "\n",
    "print('Error medio: ', mean_error)\n",
    "print('Desviación típica: ', std_error)\n",
    "print('Error medio en %: ', mean_error/mean_price*100)"
   ]
  },
  {
   "cell_type": "markdown",
   "metadata": {},
   "source": [
    "#### OBSERVACIONES\n",
    "1. El error medio es de 32.47 euros aproximadamente.\n",
    "2. Podría decirse que el modelo aprueba pues el error medio no es muy elevado. Sin embargo, es mejorable, pues el porcentaje de error es del 25%. Creemos que incluyendo otras variables en el modelo, como las fechas en la que se alquilan (los precios varían en cada estación por la demanda) o si está bien conectado mediante transporte público. "
   ]
  },
  {
   "cell_type": "code",
   "execution_count": 27,
   "metadata": {},
   "outputs": [
    {
     "data": {
      "image/png": "[encoded data removed]",
      "text/plain": [
       "<Figure size 432x288 with 1 Axes>"
      ]
     },
     "metadata": {
      "needs_background": "light"
     },
     "output_type": "display_data"
    }
   ],
   "source": [
    "# Dibujamos el histograma de los errores\n",
    "fig1 = plt.figure()\n",
    "ax1 = plt.axes()\n",
    "ax1.hist(errors)\n",
    "\n",
    "plt.title('Distribución del error en valor absoluto')\n",
    "plt.show()"
   ]
  },
  {
   "cell_type": "code",
   "execution_count": 29,
   "metadata": {},
   "outputs": [
    {
     "data": {
      "image/png": "[encoded data removed]",
      "text/plain": [
       "<Figure size 432x288 with 1 Axes>"
      ]
     },
     "metadata": {
      "needs_background": "light"
     },
     "output_type": "display_data"
    }
   ],
   "source": [
    "fig2 = plt.figure()\n",
    "ax2 = plt.axes()\n",
    "\n",
    "# dibujamos los errores: la distancia a la recta indica el nivel de error\n",
    "ax2.scatter(df2, predicts) \n",
    "# Pintamos la referencia de la predicción perfecta\n",
    "ax2.plot(df2, df2, color='k') \n",
    "\n",
    "plt.title('Y Vs Y_pred')\n",
    "plt.show()"
   ]
  },
  {
   "cell_type": "markdown",
   "metadata": {},
   "source": [
    "#### OBSERVACIONES\n",
    "1. Para pisos de valores muy altos suele predecir precios mucho menores. Esto significa que a la hora de ir a alquilarlo, nos podemos llevar una desagradable sorpresita.\n",
    "2. Para pisos con precios más bajos las predicciones son algo mejores, pero tampoco muy buenas. Por ejemplo, para pisos de 100 euros la noche existen predicciones cercanas a los 200, 300 e incluso una de 400.\n",
    "3. Cuando analizamos los precios más bajo (50 o menos) vemos que también se produce unos errores bastante grandes.\n",
    "4. Por lo tanto, concluimos que el modelo no es muy preciso. En nuestro caso, creemos que no lo utilizaríamos para predecir el precio de un alquiler. Como era de esperar, en valores extremos, es decir, con precios más caros y muy baratos, el modelo no es bueno, esto se debe a que intenta generalizar, y quedarse con los valores más relevantes. Sin embargo, tampoco tiene mucha precisión a la hora de predecir datos de precio estandar. Pensamos que esto se debe a diversos motivos: primero, el conjunto de datos de entrenamiento no es indicativo, y además tenemos pocos valores extremos; y segundo, nuestro modelo sobreaprende del conjunto de entrenamiento y no ofrece una gran precisión en el conjunto de entrenamiento, sobre todo para valores extremos que no conoce, o conoce poco. "
   ]
  }
 ],
 "metadata": {
  "kernelspec": {
   "display_name": "Python 3",
   "language": "python",
   "name": "python3"
  },
  "language_info": {
   "codemirror_mode": {
    "name": "ipython",
    "version": 3
   },
   "file_extension": ".py",
   "mimetype": "text/x-python",
   "name": "python",
   "nbconvert_exporter": "python",
   "pygments_lexer": "ipython3",
   "version": "3.8.5"
  }
 },
 "nbformat": 4,
 "nbformat_minor": 5
}
